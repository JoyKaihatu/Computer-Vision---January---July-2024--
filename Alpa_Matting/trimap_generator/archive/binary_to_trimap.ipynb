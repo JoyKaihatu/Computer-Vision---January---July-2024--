{
 "cells": [
  {
   "cell_type": "markdown",
   "metadata": {
    "collapsed": true
   },
   "source": [
    "### December 30, 2018 ###\n",
    "\n",
    "**Single Input Image** <br />\n",
    "Online Interactive Tutorial with Jupyter <br />\n",
    "Generate a trimap from an input of mask image"
   ]
  },
  {
   "cell_type": "code",
   "execution_count": 2,
   "metadata": {},
   "outputs": [],
   "source": [
    "%matplotlib inline\n",
    "import cv2, os\n",
    "import numpy as np\n",
    "import matplotlib.pyplot as plt"
   ]
  },
  {
   "cell_type": "markdown",
   "metadata": {},
   "source": [
    "**Define The Trimap Function**"
   ]
  },
  {
   "cell_type": "code",
   "execution_count": 2,
   "metadata": {},
   "outputs": [],
   "source": [
    "def trimap_generate(img, name, size, number):\n",
    "    \"\"\"\n",
    "    This function creates a trimap based on simple dilation algorithm\n",
    "    Inputs [3]: a binary image (black & white only), name of the image, dilation pixels \n",
    "    Output    : a trimap\n",
    "    \"\"\"\n",
    "    pixels    = 2*size + 1;                       # doubled and then plus one to have an odd-sized (centered) kernel            \n",
    "    kernel    = np.ones((pixels,pixels),np.uint8) # pixel extensions = size\n",
    "    dilation  = cv2.dilate(img, kernel, iterations = 1) \n",
    "\n",
    "    dilation  = np.where(dilation == 255, 127, dilation) \t## WHT to GRY\n",
    "    remake    = np.where(dilation != 127, 0, dilation)\t\t## Smoothing\n",
    "    remake    = np.where(img > 127, 200, dilation)\t\t\t## mark the tumor inside light GRY\n",
    "\n",
    "    remake    = np.where(remake < 127, 0, remake)\t\t\t## Embelishment\n",
    "    remake    = np.where(remake > 200, 0, remake)\t\t\t## Embelishment\n",
    "    remake    = np.where(remake == 200, 255, remake)\t\t## light GRY to WHT\n",
    "\n",
    "    path = \"./images/results/\"\n",
    "    new_name = '{}px_'.format(size) + name + '_{}.png'.format(number);\n",
    "    cv2.imwrite(os.path.join(path , new_name) , remake)"
   ]
  },
  {
   "cell_type": "markdown",
   "metadata": {},
   "source": [
    "**Load The Binary Image**"
   ]
  },
  {
   "cell_type": "code",
   "execution_count": 97,
   "metadata": {},
   "outputs": [
    {
     "data": {
      "image/png": "[encoded data removed]",
      "text/plain": [
       "<Figure size 432x288 with 1 Axes>"
      ]
     },
     "metadata": {
      "needs_background": "light"
     },
     "output_type": "display_data"
    }
   ],
   "source": [
    "name  = \"./images/practices/binary_0.png\";\n",
    "title = \"trimap\"\n",
    "size  = 10; # dilation size\n",
    "number= name[-5]; # obtain the number\n",
    "\n",
    "img = cv2.imread(name, cv2.IMREAD_GRAYSCALE)\n",
    "plt.imshow(img,cmap='gray');\n",
    "plt.axis('off');\n",
    "\n",
    "height, width = img.shape[:2]\n",
    "\n",
    "## Generate Trimap ##\n",
    "trimap_generate(img, title, size, number)"
   ]
  },
  {
   "cell_type": "markdown",
   "metadata": {},
   "source": [
    "**Check The Trimap Result**"
   ]
  },
  {
   "cell_type": "code",
   "execution_count": 99,
   "metadata": {},
   "outputs": [
    {
     "data": {
      "image/png": "[encoded data removed]",
      "text/plain": [
       "<Figure size 432x288 with 1 Axes>"
      ]
     },
     "metadata": {
      "needs_background": "light"
     },
     "output_type": "display_data"
    }
   ],
   "source": [
    "name  = \"./images/results/10px_trimap_0.png\";\n",
    "result = cv2.imread(name, cv2.IMREAD_GRAYSCALE)\n",
    "plt.imshow(result,cmap='gray');\n",
    "plt.axis('off');"
   ]
  },
  {
   "cell_type": "markdown",
   "metadata": {},
   "source": [
    "### January 06, 2018 ###\n",
    "In case of inexact binary images, erosion argument has been included to further shrink the overestimated foreground.\n",
    "\n",
    "The default parameter of erosion argument is None; if enabled, the default kernel size is (3x3). I would recommend changing the iteration number (default is 5) inside the cv2.erode() sub-routine, instead of changing the kernel size.\n",
    "\n",
    "In my case, all binary images were generated from **U-Net** with a Jaccard's Index of 94% with respect to physician's ground truth images. Therefore, I am pretty confident that the mask image does reflect the accurate foreground."
   ]
  },
  {
   "cell_type": "code",
   "execution_count": 21,
   "metadata": {},
   "outputs": [
    {
     "data": {
      "image/png": "[encoded data removed]",
      "text/plain": [
       "<Figure size 432x288 with 1 Axes>"
      ]
     },
     "metadata": {
      "needs_background": "light"
     },
     "output_type": "display_data"
    }
   ],
   "source": [
    "name  = \"./images/practices/binary_0.png\";\n",
    "title = \"trimap\"\n",
    "size  = 10; # dilation size\n",
    "number= name[-5]; # obtain the number\n",
    "\n",
    "img = cv2.imread(name, cv2.IMREAD_GRAYSCALE)\n",
    "plt.imshow(img,cmap='gray');\n",
    "plt.axis('off');"
   ]
  },
  {
   "cell_type": "code",
   "execution_count": 22,
   "metadata": {},
   "outputs": [],
   "source": [
    "# This sub-routine allows foreground erosion\n",
    "def trimap_generate(img, name, size, number, erosion=False):\n",
    "    \"\"\"\n",
    "    This function creates a trimap based on simple dilation algorithm\n",
    "    Inputs [4]: a binary image (black & white only), name of the image, dilation pixels \n",
    "                the last argument is optional; i.e., how many iterations will the image get eroded\n",
    "    Output    : a trimap\n",
    "    \"\"\"\n",
    "    pixels    = 2*size + 1;                                ## doubled and then plus one to have an odd-sized (centered) kernel            \n",
    "    kernel    = np.ones((pixels,pixels),np.uint8)          ## pixel extensions = size\n",
    "    \n",
    "    if erosion is not False:\n",
    "        erosion = int(erosion)\n",
    "        erosion_kernel = np.ones((3,3), np.uint8)                ## Design an odd-sized erosion kernel\n",
    "        img = cv2.erode(img, erosion_kernel, iterations=erosion) ## How many erosion do you expect\n",
    "        img = np.where( img > 0, 255, img )                      ## Any gray-colored pixel becomes white (smoothing)\n",
    "    \n",
    "    dilation  = cv2.dilate(img, kernel, iterations = 1) \n",
    "\n",
    "    dilation  = np.where(dilation == 255, 127, dilation)    ## WHT to GRY\n",
    "    remake    = np.where(dilation != 127, 0, dilation)      ## Smoothing\n",
    "    remake    = np.where(img > 127, 200, dilation)          ## Mark the tumor inside light GRY\n",
    "\n",
    "    remake    = np.where(remake < 127, 0, remake)           ## Embelishment\n",
    "    remake    = np.where(remake > 200, 0, remake)           ## Embelishment\n",
    "    remake    = np.where(remake == 200, 255, remake)        ## Light GRY to WHT\n",
    "    \n",
    "    # remake    = img\n",
    "    path = \"./images/results/\"\n",
    "    new_name = '{}px_'.format(size) + name + '_{}.png'.format(number);\n",
    "    cv2.imwrite(os.path.join(path , new_name) , remake)"
   ]
  },
  {
   "cell_type": "code",
   "execution_count": 23,
   "metadata": {},
   "outputs": [
    {
     "data": {
      "image/png": "[encoded data removed]",
      "text/plain": [
       "<Figure size 432x288 with 1 Axes>"
      ]
     },
     "metadata": {
      "needs_background": "light"
     },
     "output_type": "display_data"
    }
   ],
   "source": [
    "trimap_generate(img, title, size, number, erosion = False)\n",
    "\n",
    "name  = \"./images/results/10px_trimap_0.png\";\n",
    "result = cv2.imread(name, cv2.IMREAD_GRAYSCALE)\n",
    "plt.imshow(result,cmap='gray');\n",
    "plt.axis('off');"
   ]
  }
 ],
 "metadata": {
  "kernelspec": {
   "display_name": "Python 3",
   "language": "python",
   "name": "python3"
  },
  "language_info": {
   "codemirror_mode": {
    "name": "ipython",
    "version": 3
   },
   "file_extension": ".py",
   "mimetype": "text/x-python",
   "name": "python",
   "nbconvert_exporter": "python",
   "pygments_lexer": "ipython3",
   "version": "3.6.7"
  }
 },
 "nbformat": 4,
 "nbformat_minor": 2
}

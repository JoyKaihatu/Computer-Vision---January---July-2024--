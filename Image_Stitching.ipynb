{
 "cells": [
  {
   "cell_type": "code",
   "execution_count": 4,
   "metadata": {},
   "outputs": [],
   "source": [
    "import cv2 \n",
    "import matplotlib.pyplot as plt\n",
    "import numpy as np"
   ]
  },
  {
   "cell_type": "code",
   "execution_count": 5,
   "metadata": {},
   "outputs": [
    {
     "name": "stdout",
     "output_type": "stream",
     "text": [
      "Not success\n",
      "None\n"
     ]
    }
   ],
   "source": [
    "imgs = []\n",
    "img_path = ['Leon1.jpg', 'Leon2.jpg']\n",
    "\n",
    "\n",
    "for i in range(len(img_path)):\n",
    "    imgs.append(cv2.imread(img_path[i]))\n",
    "    imgs[i]=cv2.resize(imgs[i],(0,0),fx=0.4,fy=0.4) \n",
    "\n",
    "\n",
    "stitching = cv2.Stitcher.create()\n",
    "(dummy,output)=stitching.stitch(imgs) \n",
    "\n",
    "# output = cv2.cvtColor(output, cv2.COLOR_BGR2RGB)\n",
    "\n",
    "if dummy != cv2.STITCHER_OK:\n",
    "    print(\"Not success\")\n",
    "else:\n",
    "    print(\"Success\")\n",
    "\n",
    "\n",
    "\n",
    "# plt.imshow(output)\n",
    "# plt.show()"
   ]
  },
  {
   "cell_type": "code",
   "execution_count": 6,
   "metadata": {},
   "outputs": [],
   "source": [
    "def detect_and_match_features(img1, img2):\n",
    "    orb = cv2.ORB_create()\n",
    "    keypoints1, descriptors1 = orb.detectAndCompute(img1, None)\n",
    "    keypoints2, descriptors2 = orb.detectAndCompute(img2, None)\n",
    "\n",
    "    bf = cv2.BFMatcher(cv2.NORM_HAMMING, crossCheck=True)\n",
    "    matches = bf.match(descriptors1, descriptors2)\n",
    "    matches = sorted(matches, key=lambda x: x.distance)\n",
    "\n",
    "    return keypoints1, keypoints2, matches\n",
    "\n",
    "keypoints1, keypoints2, matches = detect_and_match_features(imgs[0], imgs[1])"
   ]
  },
  {
   "cell_type": "code",
   "execution_count": 7,
   "metadata": {},
   "outputs": [],
   "source": [
    "def estimate_homography(keypoints1, keypoints2, matches, threshold=3):\n",
    "    src_points = np.float32([keypoints1[m.queryIdx].pt for m in matches]).reshape(-1, 1, 2)\n",
    "    dst_points = np.float32([keypoints2[m.trainIdx].pt for m in matches]).reshape(-1, 1, 2)\n",
    "\n",
    "    H, mask = cv2.findHomography(src_points, dst_points, cv2.RANSAC, threshold)\n",
    "    return H, mask\n",
    "\n",
    "H, mask = estimate_homography(keypoints1, keypoints2, matches)"
   ]
  },
  {
   "cell_type": "code",
   "execution_count": 8,
   "metadata": {},
   "outputs": [],
   "source": [
    "def warp_images(img1, img2, H):\n",
    "    h1, w1 = img1.shape[:2]\n",
    "    h2, w2 = img2.shape[:2]\n",
    "\n",
    "    corners1 = np.float32([[0, 0], [0, h1], [w1, h1], [w1, 0]]).reshape(-1, 1, 2)\n",
    "    corners2 = np.float32([[0, 0], [0, h2], [w2, h2], [w2, 0]]).reshape(-1, 1, 2)\n",
    "    warped_corners2 = cv2.perspectiveTransform(corners2, H)\n",
    "\n",
    "    corners = np.concatenate((corners1, warped_corners2), axis=0)\n",
    "    [xmin, ymin] = np.int32(corners.min(axis=0).ravel() - 0.5)\n",
    "    [xmax, ymax] = np.int32(corners.max(axis=0).ravel() + 0.5)\n",
    "\n",
    "    t = [-xmin, -ymin]\n",
    "    Ht = np.array([[1, 0, t[0]], [0, 1, t[1]], [0, 0, 1]])\n",
    "\n",
    "    warped_img2 = cv2.warpPerspective(img2, Ht @ H, (xmax - xmin, ymax - ymin))\n",
    "    warped_img2[t[1]:h1 + t[1], t[0]:w1 + t[0]] = img1\n",
    "\n",
    "    return warped_img2\n",
    "\n",
    "warped_img = warp_images(imgs[0], imgs[1], H)"
   ]
  },
  {
   "cell_type": "code",
   "execution_count": 9,
   "metadata": {},
   "outputs": [
    {
     "ename": "ValueError",
     "evalue": "operands could not be broadcast together with shapes (284,226,3) (276,234,3) ",
     "output_type": "error",
     "traceback": [
      "\u001b[1;31m---------------------------------------------------------------------------\u001b[0m",
      "\u001b[1;31mValueError\u001b[0m                                Traceback (most recent call last)",
      "Cell \u001b[1;32mIn[9], line 6\u001b[0m\n\u001b[0;32m      3\u001b[0m     blended_img \u001b[38;5;241m=\u001b[39m img1 \u001b[38;5;241m*\u001b[39m mask \u001b[38;5;241m+\u001b[39m img2 \u001b[38;5;241m*\u001b[39m (\u001b[38;5;241m1\u001b[39m \u001b[38;5;241m-\u001b[39m mask)\n\u001b[0;32m      4\u001b[0m     \u001b[38;5;28;01mreturn\u001b[39;00m blended_img\u001b[38;5;241m.\u001b[39mastype(np\u001b[38;5;241m.\u001b[39muint8)\n\u001b[1;32m----> 6\u001b[0m output_img \u001b[38;5;241m=\u001b[39m \u001b[43mblend_images\u001b[49m\u001b[43m(\u001b[49m\u001b[43mwarped_img\u001b[49m\u001b[43m,\u001b[49m\u001b[43m \u001b[49m\u001b[43mimgs\u001b[49m\u001b[43m[\u001b[49m\u001b[38;5;241;43m1\u001b[39;49m\u001b[43m]\u001b[49m\u001b[43m)\u001b[49m\n",
      "Cell \u001b[1;32mIn[9], line 3\u001b[0m, in \u001b[0;36mblend_images\u001b[1;34m(img1, img2)\u001b[0m\n\u001b[0;32m      1\u001b[0m \u001b[38;5;28;01mdef\u001b[39;00m \u001b[38;5;21mblend_images\u001b[39m(img1, img2):\n\u001b[0;32m      2\u001b[0m     mask \u001b[38;5;241m=\u001b[39m np\u001b[38;5;241m.\u001b[39mwhere(img1 \u001b[38;5;241m!=\u001b[39m \u001b[38;5;241m0\u001b[39m, \u001b[38;5;241m1\u001b[39m, \u001b[38;5;241m0\u001b[39m)\u001b[38;5;241m.\u001b[39mastype(np\u001b[38;5;241m.\u001b[39mfloat32)\n\u001b[1;32m----> 3\u001b[0m     blended_img \u001b[38;5;241m=\u001b[39m img1 \u001b[38;5;241m*\u001b[39m mask \u001b[38;5;241m+\u001b[39m \u001b[43mimg2\u001b[49m\u001b[43m \u001b[49m\u001b[38;5;241;43m*\u001b[39;49m\u001b[43m \u001b[49m\u001b[43m(\u001b[49m\u001b[38;5;241;43m1\u001b[39;49m\u001b[43m \u001b[49m\u001b[38;5;241;43m-\u001b[39;49m\u001b[43m \u001b[49m\u001b[43mmask\u001b[49m\u001b[43m)\u001b[49m\n\u001b[0;32m      4\u001b[0m     \u001b[38;5;28;01mreturn\u001b[39;00m blended_img\u001b[38;5;241m.\u001b[39mastype(np\u001b[38;5;241m.\u001b[39muint8)\n",
      "\u001b[1;31mValueError\u001b[0m: operands could not be broadcast together with shapes (284,226,3) (276,234,3) "
     ]
    }
   ],
   "source": [
    "def blend_images(img1, img2):\n",
    "    mask = np.where(img1 != 0, 1, 0).astype(np.float32)\n",
    "    blended_img = img1 * mask + img2 * (1 - mask)\n",
    "    return blended_img.astype(np.uint8)\n",
    "\n",
    "output_img = blend_images(warped_img, imgs[1])"
   ]
  },
  {
   "cell_type": "code",
   "execution_count": null,
   "metadata": {},
   "outputs": [],
   "source": [
    "plt.imshow(output_img)\n",
    "plt.show()"
   ]
  }
 ],
 "metadata": {
  "kernelspec": {
   "display_name": "Python 3",
   "language": "python",
   "name": "python3"
  },
  "language_info": {
   "codemirror_mode": {
    "name": "ipython",
    "version": 3
   },
   "file_extension": ".py",
   "mimetype": "text/x-python",
   "name": "python",
   "nbconvert_exporter": "python",
   "pygments_lexer": "ipython3",
   "version": "3.12.1"
  }
 },
 "nbformat": 4,
 "nbformat_minor": 2
}

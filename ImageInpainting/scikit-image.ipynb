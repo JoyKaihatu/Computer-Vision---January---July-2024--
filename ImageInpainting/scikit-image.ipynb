{
 "cells": [
  {
   "cell_type": "code",
   "execution_count": 3,
   "metadata": {},
   "outputs": [],
   "source": [
    "import numpy as np\n",
    "import cv2\n",
    "import matplotlib.pyplot as plt\n",
    "from skimage import data, restoration\n",
    "\n",
    "# Load image\n",
    "img = cv2.imread('Scenic_View_Damage_Final.png')\n",
    " \n",
    "# Load the mask.\n",
    "mask = cv2.imread('Scenic_View_Damage_Final_Mask.png')\n",
    "\n",
    "# Create mask (replace with your mask creation method)\n",
    "# mask = np.zeros(img.shape[:-1], dtype=bool)\n",
    "# mask[100:-100, 100:-100] = True  # Mask a square region\n",
    "\n",
    "# Inpaint the image\n",
    "inpainted_image = restoration.inpaint_biharmonic(img, mask, split_into_regions=True)\n",
    "\n",
    "# Display original, masked, and inpainted images\n",
    "fig, axes = plt.subplots(1, 3, figsize=(10, 4))\n",
    "axes[0].imshow(img)\n",
    "axes[0].set_title('Original')\n",
    "axes[1].imshow(img, cmap='gray')\n",
    "axes[1].imshow(mask, alpha=0.5, cmap='gray')\n",
    "axes[1].set_title('Masked')\n",
    "axes[2].imshow(inpainted_image)\n",
    "axes[2].set_title('Inpainted')\n",
    "plt.tight_layout()\n",
    "plt.show()\n"
   ]
  }
 ],
 "metadata": {
  "kernelspec": {
   "display_name": "Python 3",
   "language": "python",
   "name": "python3"
  },
  "language_info": {
   "codemirror_mode": {
    "name": "ipython",
    "version": 3
   },
   "file_extension": ".py",
   "mimetype": "text/x-python",
   "name": "python",
   "nbconvert_exporter": "python",
   "pygments_lexer": "ipython3",
   "version": "3.12.3"
  }
 },
 "nbformat": 4,
 "nbformat_minor": 2
}
